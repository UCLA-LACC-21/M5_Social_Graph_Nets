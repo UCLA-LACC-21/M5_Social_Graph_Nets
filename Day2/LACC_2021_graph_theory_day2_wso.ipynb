{
  "nbformat": 4,
  "nbformat_minor": 0,
  "metadata": {
    "colab": {
      "name": "LACC_2021_graph_theory_day2_ws.ipynb",
      "provenance": [],
      "collapsed_sections": []
    },
    "kernelspec": {
      "name": "python3",
      "display_name": "Python 3"
    },
    "language_info": {
      "name": "python"
    }
  },
  "cells": [
    {
      "cell_type": "code",
      "metadata": {
        "id": "LU64euzljJAx"
      },
      "source": [
        "!pip install python-igraph\n",
        "!pip install cairocffi\n",
        "!pip install https://github.com/matplotlib/basemap/archive/master.zip"
      ],
      "execution_count": null,
      "outputs": []
    },
    {
      "cell_type": "code",
      "metadata": {
        "id": "tfBNsMdVjVhA"
      },
      "source": [
        "import igraph as ig\n",
        "import numpy as np\n",
        "import pandas as pd\n",
        "import matplotlib.pyplot as plt\n",
        "import cairocffi\n",
        "import requests\n",
        "import json\n",
        "from itertools import islice\n",
        "from mpl_toolkits import basemap\n",
        "import networkx as nx"
      ],
      "execution_count": null,
      "outputs": []
    },
    {
      "cell_type": "markdown",
      "metadata": {
        "id": "R42T2lu1pwk1"
      },
      "source": [
        "## Importing, Inspecting and Visualizing the Facebook Network"
      ]
    },
    {
      "cell_type": "code",
      "metadata": {
        "id": "ZxeEUVkAkJgl"
      },
      "source": [
        "el = pd.read_csv('https://raw.githubusercontent.com/swapnilsayansaha/Social_Complex_Nets/main/Project2/facebook_combined.txt',\n",
        "                 sep=' ',header=None) #import the list of edges\n",
        "g = ig.Graph.DataFrame(el, directed=False) #generate undirected network from the edge list\n",
        "el.head() #see how the data looks like"
      ],
      "execution_count": null,
      "outputs": []
    },
    {
      "cell_type": "code",
      "metadata": {
        "id": "skjv6mxXp54g"
      },
      "source": [
        "print(\"Number of nodes:\",g.vcount()) #Print number of vertices\n",
        "print(\"Number of edges:\", g.ecount()) #Print number of edges\n",
        "print(\"Is the graph connected?\",g.is_connected()) #Check if the entire graph is connected\n",
        "print(\"Average degree: \", np.mean(g.degree())) #Average degree of a node"
      ],
      "execution_count": null,
      "outputs": []
    },
    {
      "cell_type": "code",
      "metadata": {
        "id": "G8_Oiv_esrJe"
      },
      "source": [
        "x = g.degree_distribution() #get the degree distribution histogram\n",
        "plt.scatter(np.arange(1,len(x._bins)+1),np.array(x._bins),marker='x') #plot the histogram bins\n",
        "plt.xlabel('Degree')\n",
        "plt.ylabel('Frequency')\n",
        "plt.grid()\n",
        "plt.title('Degree Distribution of the Facebook Network')\n",
        "plt.show()"
      ],
      "execution_count": null,
      "outputs": []
    },
    {
      "cell_type": "code",
      "metadata": {
        "id": "vNhPbPeVsKKU"
      },
      "source": [
        "ig.plot(g,vertex_size=4,edge_width=0.5,vertex_label=\"\",edge_color='grey') #plot the graph (will take some time)"
      ],
      "execution_count": null,
      "outputs": []
    },
    {
      "cell_type": "markdown",
      "metadata": {
        "id": "BlWhJlDsDxm0"
      },
      "source": [
        "## Community Structure Visualization"
      ]
    },
    {
      "cell_type": "code",
      "metadata": {
        "id": "DmQLE22H_fAg"
      },
      "source": [
        "ego = g.induced_subgraph(g.neighbors(484)+[484]) #Personalized network for user ID 484\n",
        "print(\"Number of nodes:\",ego.vcount()) #Print number of vertices\n",
        "print(\"Number of edges:\", ego.ecount()) #Print number of edges"
      ],
      "execution_count": null,
      "outputs": []
    },
    {
      "cell_type": "code",
      "metadata": {
        "id": "e_L8v10EDh_z"
      },
      "source": [
        "ig.plot(ego,vertex_size=4,edge_width=0.5,vertex_label=\"\",edge_color='grey') #Plot the personalized network for user ID 484"
      ],
      "execution_count": null,
      "outputs": []
    },
    {
      "cell_type": "code",
      "metadata": {
        "id": "tKvs-albDipe"
      },
      "source": [
        "communities = ego.community_multilevel() #detect communities\n",
        "ig.plot(communities, mark_groups = True,vertex_size=4,edge_width=0.5,vertex_label=\"\",edge_color='grey') #plot the community structure"
      ],
      "execution_count": null,
      "outputs": []
    },
    {
      "cell_type": "code",
      "metadata": {
        "id": "k-_n_03AH5t3"
      },
      "source": [
        "print(\"Modularity for clustering of the personalized network:\", communities.modularity) #find modularity of the clustering, range: 0 to 1"
      ],
      "execution_count": null,
      "outputs": []
    },
    {
      "cell_type": "code",
      "metadata": {
        "id": "LdjqTcm4Ib9e"
      },
      "source": [
        "ego = g.induced_subgraph(g.neighbors(0)+[0]) #Personalized network for user ID 0\n",
        "print(\"Number of nodes:\",ego.vcount()) #Print number of vertices\n",
        "print(\"Number of edges:\", ego.ecount()) #Print number of edges\n",
        "ig.plot(ego,vertex_size=4,edge_width=0.5,vertex_label=\"\",edge_color='grey') #Plot the personalized network for user ID 0"
      ],
      "execution_count": null,
      "outputs": []
    },
    {
      "cell_type": "code",
      "metadata": {
        "id": "OgF6FrIeJfXs"
      },
      "source": [
        "communities = ego.community_multilevel() #detect communities\n",
        "print(\"Modularity for clustering of the personalized network:\", communities.modularity) #find modularity of the clustering, range: 0 to 1\n",
        "ig.plot(communities, mark_groups = True,vertex_size=4,edge_width=0.5,vertex_label=\"\",edge_color='grey') #plot the community structure"
      ],
      "execution_count": null,
      "outputs": []
    },
    {
      "cell_type": "markdown",
      "metadata": {
        "id": "mY6KqX0TJ6KA"
      },
      "source": [
        "## Erdos-Renyi and Barabasi-Albert Network Inspection"
      ]
    },
    {
      "cell_type": "code",
      "metadata": {
        "id": "imJQzL6cJ-hX"
      },
      "source": [
        "g1 = ig.Graph.Erdos_Renyi(n=1000,p=0.004,directed=False,loops=False) #create an ER network with 1000 nodes, probability of connectedness: 0.004\n",
        "ig.plot(g1,vertex_size=4,edge_width=0.5,vertex_label=\"\",edge_color='grey')"
      ],
      "execution_count": null,
      "outputs": []
    },
    {
      "cell_type": "code",
      "metadata": {
        "id": "J6F2CVOKLADi"
      },
      "source": [
        "g2 = ig.Graph.Barabasi(n=1000,m=1,directed=False) #create a BA network with 1000 nodes, out degree of each new node: 1\n",
        "ig.plot(g2,vertex_size=4,edge_width=0.5,vertex_label=\"\",edge_color='grey')"
      ],
      "execution_count": null,
      "outputs": []
    },
    {
      "cell_type": "code",
      "metadata": {
        "id": "f6gP17nALhTD"
      },
      "source": [
        "x = g1.degree_distribution() #get the degree distribution histogram\n",
        "plt.scatter(np.arange(1,len(x._bins)+1),np.array(x._bins),marker='x') #plot the histogram bins\n",
        "plt.xlabel('Degree')\n",
        "plt.ylabel('Frequency')\n",
        "plt.grid()\n",
        "plt.title('Degree Distribution of the Erdos-Renyi Network')\n",
        "plt.show()"
      ],
      "execution_count": null,
      "outputs": []
    },
    {
      "cell_type": "code",
      "metadata": {
        "id": "xTTd_2FJL0qK"
      },
      "source": [
        "x = g2.degree_distribution() #get the degree distribution histogram\n",
        "plt.scatter(np.arange(1,len(x._bins)+1),np.array(x._bins),marker='x') #plot the histogram bins\n",
        "plt.xlabel('Degree')\n",
        "plt.ylabel('Frequency')\n",
        "plt.grid()\n",
        "plt.title('Degree Distribution of the Barabasi Albert Network')\n",
        "plt.show()"
      ],
      "execution_count": null,
      "outputs": []
    },
    {
      "cell_type": "code",
      "metadata": {
        "id": "Y6VA0C2hNRzk"
      },
      "source": [
        "print(\"Is the ER graph connected?\",g1.is_connected()) #Check if the entire graph is connected\n",
        "print(\"Is the BA graph connected?\",g2.is_connected()) #Check if the entire graph is connected"
      ],
      "execution_count": null,
      "outputs": []
    },
    {
      "cell_type": "code",
      "metadata": {
        "id": "4OB3GRITOn8Y"
      },
      "source": [
        "communities = g1.community_multilevel() #detect communities\n",
        "print(\"Modularity for clustering of the ER graph:\", communities.modularity) #find modularity of the clustering, range: 0 to 1\n",
        "ig.plot(communities, mark_groups = True,vertex_size=4,edge_width=0.5,vertex_label=\"\",edge_color='grey') #plot the community structure"
      ],
      "execution_count": null,
      "outputs": []
    },
    {
      "cell_type": "code",
      "metadata": {
        "id": "0_oGb13nODDh"
      },
      "source": [
        "communities = g2.community_multilevel() #detect communities\n",
        "print(\"Modularity for clustering of the BA graph:\", communities.modularity) #find modularity of the clustering, range: 0 to 1\n",
        "ig.plot(communities, mark_groups = True,vertex_size=4,edge_width=0.5,vertex_label=\"\",edge_color='grey') #plot the community structure"
      ],
      "execution_count": null,
      "outputs": []
    },
    {
      "cell_type": "markdown",
      "metadata": {
        "id": "REdRA6dBMu01"
      },
      "source": [
        "## Minimum Spanning Tree and GCC"
      ]
    },
    {
      "cell_type": "code",
      "metadata": {
        "id": "WkP7E08UNmGH"
      },
      "source": [
        "el = pd.read_csv('https://raw.githubusercontent.com/swapnilsayansaha/Social_Complex_Nets/main/Project4/uber_data_graph.txt',\n",
        "                 sep=' ',header=None) #load the Uber dataset, which gives location IDs and time to travel between those locations.\n",
        "np.savetxt(r'uber_data_graph.txt', el.values, fmt='%d') #save the file locally\n",
        "el.head() #visualize the data"
      ],
      "execution_count": null,
      "outputs": []
    },
    {
      "cell_type": "code",
      "metadata": {
        "id": "ajIzOeqiRclD"
      },
      "source": [
        "g = ig.Graph.Read(f = 'uber_data_graph.txt', format = 'ncol', directed = False) #create a weighted undirected graph from the data\n",
        "gcc = g.components().giant() #obtain the giant connected component\n",
        "print(\"Number of nodes and edges of GCC: \",len(gcc.vs),len(gcc.es))"
      ],
      "execution_count": null,
      "outputs": []
    },
    {
      "cell_type": "code",
      "metadata": {
        "id": "5PGKijrrSBJc"
      },
      "source": [
        "mst = gcc.spanning_tree(weights = gcc.es[\"weight\"]) #find the minimum spanning tree for Uber Dataset using Prim's algorithm\n",
        "ig.plot(mst,vertex_size=4,edge_width=0.5,vertex_label=\"\",edge_color='grey') "
      ],
      "execution_count": null,
      "outputs": []
    },
    {
      "cell_type": "code",
      "metadata": {
        "id": "U_wqe_90UwWq"
      },
      "source": [
        "r = requests.get('https://raw.githubusercontent.com/swapnilsayansaha/Social_Complex_Nets/main/Project4/los_angeles_censustracts.json', \n",
        "                 allow_redirects=True) #download the file containing properties of each location ID (e.g., coordinates)\n",
        "open('los_angeles_censustracts.json', 'wb').write(r.content) #save the file locally"
      ],
      "execution_count": null,
      "outputs": []
    },
    {
      "cell_type": "code",
      "metadata": {
        "id": "6eYEqe-JS5Lq"
      },
      "source": [
        "#save the coordinates and name of each location ID in a dictionary\n",
        "location_data = {}\n",
        "with open('los_angeles_censustracts.json', 'r') as f:\n",
        "    cur_data = json.loads(f.readline())\n",
        "    for feature in cur_data['features']:\n",
        "        coordinates = np.array(feature['geometry']['coordinates'][0][0])\n",
        "        location_data[feature['properties']['MOVEMENT_ID']] = {'address': feature['properties']['DISPLAY_NAME'],\n",
        "                                                          'mean_coords': np.mean(coordinates.reshape(-1,2), axis=0)}"
      ],
      "execution_count": null,
      "outputs": []
    },
    {
      "cell_type": "code",
      "metadata": {
        "id": "Ldl-qJjwVtsW"
      },
      "source": [
        "list(islice(location_data.items(), 10)) #visualize few elements from dictionary"
      ],
      "execution_count": null,
      "outputs": []
    },
    {
      "cell_type": "code",
      "metadata": {
        "id": "E74noCoCUWc5"
      },
      "source": [
        "# check to see if two successive nodes on the MST are geographically near each other\n",
        "mst_edges = mst.es()\n",
        "print(\"Coordinates near the two endpoints (the centroid locations) of a few edges:\")\n",
        "for e in mst_edges[:10]:\n",
        "    x, y = mst.vs(e.tuple[0])[0]['name'], mst.vs(e.tuple[1])[0]['name']\n",
        "    print(location_data[str(x)]['address'],location_data[str(x)]['mean_coords'], \n",
        "          location_data[str(y)]['address'],location_data[str(y)]['mean_coords'])"
      ],
      "execution_count": null,
      "outputs": []
    },
    {
      "cell_type": "markdown",
      "metadata": {
        "id": "3bFOLpHjXb8H"
      },
      "source": [
        "## Djikstra and TSP"
      ]
    },
    {
      "cell_type": "code",
      "metadata": {
        "id": "DThYq1o7mHC2"
      },
      "source": [
        "fig = plt.figure(figsize=(8, 8))\n",
        "m = basemap.Basemap(projection='lcc', resolution='h', \n",
        "            lat_0=34.05, lon_0=-118.4,\n",
        "            width=1E5, height=1E5) #Draw map of LA\n",
        "m.drawcoastlines(color='gray')\n",
        "m.drawcountries(color='gray')\n",
        "m.drawstates(color='gray')\n",
        "m.fillcontinents(color='tan')\n",
        "\n",
        "x, y = m(-118.4912, 34.0195)\n",
        "plt.plot(x, y, 'ok', markersize=5)\n",
        "plt.text(x, y, '  Santa\\n  Monica', fontsize=7);\n",
        "x, y = m(-118.2518, 34.0488)\n",
        "plt.plot(x, y, 'ok', markersize=5)\n",
        "plt.text(x, y, '  Downtown', fontsize=7);\n",
        "x, y = m(-118.4085, 33.9416)\n",
        "plt.plot(x, y, 'ok', markersize=5)\n",
        "plt.text(x, y, '  LAX', fontsize=7);\n",
        "x, y = m(-118.1445, 34.1478)\n",
        "plt.plot(x, y, 'ok', markersize=5)\n",
        "plt.text(x, y, '  Pasadena', fontsize=7);\n",
        "x, y = m(-118.7798, 34.0259)\n",
        "plt.plot(x, y, 'ok', markersize=5)\n",
        "plt.text(x, y, '  Malibu', fontsize=7);\n",
        "x, y = m(-118.1937, 33.7701)\n",
        "plt.plot(x, y, 'ok', markersize=5)\n",
        "plt.text(x, y, '  Long Beach', fontsize=7);\n",
        "x, y = m(-118.1270, 34.0953)\n",
        "plt.plot(x, y, 'ok', markersize=5)\n",
        "plt.text(x, y, '  Alhambra', fontsize=7);\n",
        "x, y = m(-118.2201, 33.8958)\n",
        "plt.plot(x, y, 'ok', markersize=5)\n",
        "plt.text(x, y, '  Compton', fontsize=7);\n",
        "x, y = m(-118.3884, 33.8492)\n",
        "plt.plot(x, y, 'ok', markersize=5)\n",
        "plt.text(x, y, '  Redondo Beach', fontsize=7);\n",
        "x, y = m(-118.4004, 34.0736)\n",
        "plt.plot(x, y, 'ok', markersize=5)\n",
        "plt.text(x, y, '  Beverly Hills', fontsize=7);\n",
        "x, y = m(-118.3090, 34.1808)\n",
        "plt.plot(x, y, 'ok', markersize=5)\n",
        "plt.text(x, y, '  Burbank', fontsize=7);\n",
        "x, y = m(-118.3287, 34.0928)\n",
        "plt.plot(x, y, 'ok', markersize=5)\n",
        "plt.text(x, y, '  Hollywood', fontsize=7);\n",
        "x, y = m(-118.4514, 34.1899)\n",
        "plt.plot(x, y, 'ok', markersize=5)\n",
        "plt.text(x, y, '  Van\\n  Nuys', fontsize=7);\n",
        "x, y = m(-118.5301, 34.2381)\n",
        "plt.plot(x, y, 'ok', markersize=5)\n",
        "plt.text(x, y, '  Northridge', fontsize=7);\n",
        "x, y = m(-118.5506, 34.1495)\n",
        "plt.plot(x, y, 'ok', markersize=5)\n",
        "plt.text(x, y, '  Tarzana', fontsize=7);\n",
        "x, y = m(-118.0328, 33.9792)\n",
        "plt.plot(x, y, 'ok', markersize=5)\n",
        "plt.text(x, y, '  Whittier', fontsize=7);\n",
        "x, y = m(-118.1670, 34.0224)\n",
        "plt.plot(x, y, 'ok', markersize=5)\n",
        "plt.text(x, y, '  East Los Angeles', fontsize=7);\n",
        "x, y = m(-118.2551, 34.1425)\n",
        "plt.plot(x, y, 'ok', markersize=5)\n",
        "plt.text(x, y, '  Glendale', fontsize=7);\n",
        "x, y = m(-118.2251, 33.9817)\n",
        "plt.plot(x, y, 'ok', markersize=5)\n",
        "plt.text(x, y, '  Huntington Park', fontsize=7);\n",
        "x, y = m(-118.3406, 33.8358)\n",
        "plt.plot(x, y, 'ok', markersize=5)\n",
        "plt.text(x, y, '  Torrance', fontsize=7);\n",
        "x, y = m(-118.1332, 33.9401)\n",
        "plt.plot(x, y, 'ok', markersize=5)\n",
        "plt.text(x, y, '  Downey', fontsize=7);\n",
        "x, y = m(-118.3526, 33.9164)\n",
        "plt.plot(x, y, 'ok', markersize=5)\n",
        "plt.text(x, y, '  Hawthorne', fontsize=7);\n",
        "x, y = m(-118.3965, 34.0211)\n",
        "plt.plot(x, y, 'ok', markersize=5)\n",
        "plt.text(x, y, '  Culver City', fontsize=7);\n",
        "x, y = m(-118.3531, 33.9617)\n",
        "plt.plot(x, y, 'ok', markersize=5)\n",
        "plt.text(x, y, '  Inglewood', fontsize=7);\n",
        "x, y = m(-117.9981, 33.8674)\n",
        "plt.plot(x, y, 'ok', markersize=5)\n",
        "plt.text(x, y, '  Buena\\n  Park', fontsize=7);\n",
        "x, y = m(-118.0817, 33.9022)\n",
        "plt.plot(x, y, 'ok', markersize=5)\n",
        "plt.text(x, y, '  Norwalk', fontsize=7);\n",
        "x, y = m(-118.1340, 33.8536)\n",
        "plt.plot(x, y, 'ok', markersize=5)\n",
        "plt.text(x, y, '  Lakewood', fontsize=7);\n",
        "x, y = m(-118.4695, 33.9850)\n",
        "plt.plot(x, y, 'ok', markersize=5)\n",
        "plt.text(x, y, '  Venice', fontsize=7);\n",
        "x, y = m(-118.3870, 33.7445)\n",
        "plt.plot(x, y, 'ok', markersize=5)\n",
        "plt.text(x, y, '  RP Verdes', fontsize=7);\n",
        "x, y = m(-117.993938, 33.752418)\n",
        "plt.plot(x, y, 'ok', markersize=5)\n",
        "plt.text(x, y, '  Westminster', fontsize=7);\n",
        "x, y = m(-117.9242, 33.8704)\n",
        "plt.plot(x, y, 'ok', markersize=5)\n",
        "plt.text(x, y, '  Fullerton', fontsize=7);\n",
        "x, y = m(-117.9988, 33.6595)\n",
        "plt.plot(x, y, 'ok', markersize=5)\n",
        "plt.text(x, y, '  Huntington\\n  Beach', fontsize=7);\n",
        "x, y = m(-118.1228, 34.0625)\n",
        "plt.plot(x, y, 'ok', markersize=5)\n",
        "plt.text(x, y, '  Monterey Park', fontsize=7);\n",
        "x, y = m(-117.9143, 33.8366)\n",
        "plt.plot(x, y, 'ok', markersize=5)\n",
        "plt.text(x, y, '  Anaheim', fontsize=7);\n",
        "x, y = m(-117.9390, 34.0686)\n",
        "plt.plot(x, y, 'ok', markersize=5)\n",
        "plt.text(x, y, '  West\\n  Covina', fontsize=7);\n",
        "x, y = m(-118.0019, 34.1443)\n",
        "plt.plot(x, y, 'ok', markersize=5)\n",
        "plt.text(x, y, '  Monrovia', fontsize=7);\n",
        "x, y = m(-117.9687, 33.9931)\n",
        "plt.plot(x, y, 'ok', markersize=5)\n",
        "plt.text(x, y, '  Hacienda\\n  Heights', fontsize=7);\n",
        "x, y = m(-118.5426, 34.3917)\n",
        "plt.plot(x, y, 'ok', markersize=5)\n",
        "plt.text(x, y, '  Santa Clarita', fontsize=7);\n",
        "x, y = m(-118.5426, 34.3917)\n",
        "plt.plot(x, y, 'ok', markersize=5)\n",
        "plt.text(x, y, '  Santa Clarita', fontsize=7);\n",
        "x, y = m(-118.8376, 34.1706)\n",
        "plt.plot(x, y, 'ok', markersize=5)\n",
        "plt.text(x, y, '  Thousand Oaks', fontsize=7);\n",
        "x, y = m(-118.7815, 34.2694)\n",
        "plt.plot(x, y, 'ok', markersize=5)\n",
        "plt.text(x, y, '  Simi Valley', fontsize=7);\n",
        "x, y = m(-118.6090, 34.1654)\n",
        "plt.plot(x, y, 'ok', markersize=5)\n",
        "plt.text(x, y, '  Woodland Hills', fontsize=7);\n",
        "x, y = m(-118.4572, 34.3058)\n",
        "plt.plot(x, y, 'ok', markersize=5)\n",
        "plt.text(x, y, '  Sylmar', fontsize=7);\n",
        "x, y = m(-118.5022, 34.2794)\n",
        "plt.plot(x, y, 'ok', markersize=5)\n",
        "plt.text(x, y, '  Granada Hills', fontsize=7);\n",
        "x, y = m(-118.5361, 34.2011)\n",
        "plt.plot(x, y, 'ok', markersize=5)\n",
        "plt.text(x, y, '  Reseda', fontsize=7);\n",
        "x, y = m(-118.4424, 34.2276)\n",
        "plt.plot(x, y, 'ok', markersize=5)\n",
        "plt.text(x, y, '  Panorama City', fontsize=7);\n",
        "x, y = m(-118.3813, 34.1870)\n",
        "plt.plot(x, y, 'ok', markersize=5)\n",
        "plt.text(x, y, ' North\\n Hollywood', fontsize=7);\n",
        "x, y = m(-118.4595, 34.1002)\n",
        "plt.plot(x, y, 'ok', markersize=5)\n",
        "plt.text(x, y, '  Bel Air', fontsize=7);\n",
        "x, y = m(-118.1313, 34.1902)\n",
        "plt.plot(x, y, 'ok', markersize=5)\n",
        "plt.text(x, y, '  Altadena', fontsize=7);\n",
        "x, y = m(-118.6059, 34.2083)\n",
        "plt.plot(x, y, 'ok', markersize=5)\n",
        "plt.text(x, y, '  Canoga\\n  Park', fontsize=7);\n",
        "x, y = m(-118.6148, 34.2506)\n",
        "plt.plot(x, y, 'ok', markersize=5)\n",
        "plt.text(x, y, '  Chatsworth', fontsize=7);\n",
        "x, y = m(-118.6615, 34.1367)\n",
        "plt.plot(x, y, 'ok', markersize=5)\n",
        "plt.text(x, y, '  Calabasas', fontsize=7);\n",
        "x, y = m(-117.9076, 34.1336)\n",
        "plt.plot(x, y, 'ok', markersize=5)\n",
        "plt.text(x, y, '  Azusa', fontsize=7);\n",
        "x, y = m(-118.4192, 33.9754)\n",
        "plt.plot(x, y, 'ok', markersize=5)\n",
        "plt.text(x, y, '  Playa Vista', fontsize=7);\n",
        "x, y = m(-118.3287, 34.0416)\n",
        "plt.plot(x, y, 'ok', markersize=5)\n",
        "plt.text(x, y, '  Mid\\n  City', fontsize=7);\n",
        "x, y = m(-118.4455, 34.0635)\n",
        "plt.plot(x, y, 'ok', markersize=5)\n",
        "plt.text(x, y, '  Westwood', fontsize=7);"
      ],
      "execution_count": null,
      "outputs": []
    },
    {
      "cell_type": "code",
      "metadata": {
        "id": "EA2OnkPpKcvm"
      },
      "source": [
        "# Find the closest point in the Uber dataset that corresponds to Malibu and Long Beach coordinates\n",
        "malibu = [34.0259, -118.7798] #actual coordinates of Malibu\n",
        "long_beach =  [33.7701, -118.1937] #actual coordinates of Malibu\n",
        "min_long_beach=np.inf\n",
        "min_malibu=np.inf\n",
        "long_beach_node=0\n",
        "malibu_node=0\n",
        "for i in range(1,len(location_data)+1):\n",
        "    long_beach_closest=np.sqrt(((location_data[str(i)]['mean_coords'][1])-long_beach[0])**2\n",
        "                               +((location_data[str(i)]['mean_coords'][0])-long_beach[1])**2)\n",
        "    malibu_closest=np.sqrt((malibu[0]-location_data[str(i)]['mean_coords'][1])**2+\n",
        "                           (malibu[1]-location_data[str(i)]['mean_coords'][0])**2)\n",
        "    if long_beach_closest<min_long_beach:\n",
        "        min_long_beach=long_beach_closest\n",
        "        long_beach_node=i\n",
        "    if malibu_closest<min_malibu:\n",
        "        min_malibu=malibu_closest\n",
        "        malibu_node=i"
      ],
      "execution_count": null,
      "outputs": []
    },
    {
      "cell_type": "code",
      "metadata": {
        "id": "Y7w5kdVMVD-s"
      },
      "source": [
        "#Calculate shortest path between Malibu and Long Beach using Dijkstra's algorihm\n",
        "vid = gcc.get_all_shortest_paths(malibu_node,long_beach_node,weights=gcc.es['weight'])\n",
        "vid[0].pop(0)\n",
        "vid[0].pop(-1)\n",
        "vid[0].sort(reverse=True)"
      ],
      "execution_count": null,
      "outputs": []
    },
    {
      "cell_type": "code",
      "metadata": {
        "id": "ExqBQq2oN1Gj"
      },
      "source": [
        "#plot the shortest path on the map:\n",
        "\n",
        "fig = plt.figure(figsize=(8, 8))\n",
        "m = basemap.Basemap(projection='lcc', resolution='h', \n",
        "            lat_0=34.05, lon_0=-118.4,\n",
        "            width=1E5, height=1E5) #Draw map of LA\n",
        "m.drawcoastlines(color='gray')\n",
        "m.drawcountries(color='gray')\n",
        "m.drawstates(color='gray')\n",
        "m.fillcontinents(color='tan')\n",
        "\n",
        "x, y = m(-118.4912, 34.0195)\n",
        "plt.plot(x, y, 'ok', markersize=5)\n",
        "plt.text(x, y, '  Santa\\n  Monica', fontsize=7);\n",
        "x, y = m(-118.2518, 34.0488)\n",
        "plt.plot(x, y, 'ok', markersize=5)\n",
        "plt.text(x, y, '  Downtown', fontsize=7);\n",
        "x, y = m(-118.4085, 33.9416)\n",
        "plt.plot(x, y, 'ok', markersize=5)\n",
        "plt.text(x, y, '  LAX', fontsize=7);\n",
        "x, y = m(-118.1445, 34.1478)\n",
        "plt.plot(x, y, 'ok', markersize=5)\n",
        "plt.text(x, y, '  Pasadena', fontsize=7);\n",
        "x, y = m(-118.7798, 34.0259)\n",
        "plt.plot(x, y, 'ok', markersize=5,color='red')\n",
        "plt.text(x, y, '  Malibu', fontsize=7);\n",
        "x, y = m(-118.1937, 33.7701)\n",
        "plt.plot(x, y, 'ok', markersize=5, color = 'red')\n",
        "plt.text(x, y, '  Long Beach', fontsize=7);\n",
        "x, y = m(-118.1270, 34.0953)\n",
        "plt.plot(x, y, 'ok', markersize=5)\n",
        "plt.text(x, y, '  Alhambra', fontsize=7);\n",
        "x, y = m(-118.2201, 33.8958)\n",
        "plt.plot(x, y, 'ok', markersize=5)\n",
        "plt.text(x, y, '  Compton', fontsize=7);\n",
        "x, y = m(-118.3884, 33.8492)\n",
        "plt.plot(x, y, 'ok', markersize=5)\n",
        "plt.text(x, y, '  Redondo Beach', fontsize=7);\n",
        "x, y = m(-118.4004, 34.0736)\n",
        "plt.plot(x, y, 'ok', markersize=5)\n",
        "plt.text(x, y, '  Beverly Hills', fontsize=7);\n",
        "x, y = m(-118.3090, 34.1808)\n",
        "plt.plot(x, y, 'ok', markersize=5)\n",
        "plt.text(x, y, '  Burbank', fontsize=7);\n",
        "x, y = m(-118.3287, 34.0928)\n",
        "plt.plot(x, y, 'ok', markersize=5)\n",
        "plt.text(x, y, '  Hollywood', fontsize=7);\n",
        "x, y = m(-118.4514, 34.1899)\n",
        "plt.plot(x, y, 'ok', markersize=5)\n",
        "plt.text(x, y, '  Van\\n  Nuys', fontsize=7);\n",
        "x, y = m(-118.5301, 34.2381)\n",
        "plt.plot(x, y, 'ok', markersize=5)\n",
        "plt.text(x, y, '  Northridge', fontsize=7);\n",
        "x, y = m(-118.5506, 34.1495)\n",
        "plt.plot(x, y, 'ok', markersize=5)\n",
        "plt.text(x, y, '  Tarzana', fontsize=7);\n",
        "x, y = m(-118.0328, 33.9792)\n",
        "plt.plot(x, y, 'ok', markersize=5)\n",
        "plt.text(x, y, '  Whittier', fontsize=7);\n",
        "x, y = m(-118.1670, 34.0224)\n",
        "plt.plot(x, y, 'ok', markersize=5)\n",
        "plt.text(x, y, '  East Los Angeles', fontsize=7);\n",
        "x, y = m(-118.2551, 34.1425)\n",
        "plt.plot(x, y, 'ok', markersize=5)\n",
        "plt.text(x, y, '  Glendale', fontsize=7);\n",
        "x, y = m(-118.2251, 33.9817)\n",
        "plt.plot(x, y, 'ok', markersize=5)\n",
        "plt.text(x, y, '  Huntington Park', fontsize=7);\n",
        "x, y = m(-118.3406, 33.8358)\n",
        "plt.plot(x, y, 'ok', markersize=5)\n",
        "plt.text(x, y, '  Torrance', fontsize=7);\n",
        "x, y = m(-118.1332, 33.9401)\n",
        "plt.plot(x, y, 'ok', markersize=5)\n",
        "plt.text(x, y, '  Downey', fontsize=7);\n",
        "x, y = m(-118.3526, 33.9164)\n",
        "plt.plot(x, y, 'ok', markersize=5)\n",
        "plt.text(x, y, '  Hawthorne', fontsize=7);\n",
        "x, y = m(-118.3965, 34.0211)\n",
        "plt.plot(x, y, 'ok', markersize=5)\n",
        "plt.text(x, y, '  Culver City', fontsize=7);\n",
        "x, y = m(-118.3531, 33.9617)\n",
        "plt.plot(x, y, 'ok', markersize=5)\n",
        "plt.text(x, y, '  Inglewood', fontsize=7);\n",
        "x, y = m(-117.9981, 33.8674)\n",
        "plt.plot(x, y, 'ok', markersize=5)\n",
        "plt.text(x, y, '  Buena\\n  Park', fontsize=7);\n",
        "x, y = m(-118.0817, 33.9022)\n",
        "plt.plot(x, y, 'ok', markersize=5)\n",
        "plt.text(x, y, '  Norwalk', fontsize=7);\n",
        "x, y = m(-118.1340, 33.8536)\n",
        "plt.plot(x, y, 'ok', markersize=5)\n",
        "plt.text(x, y, '  Lakewood', fontsize=7);\n",
        "x, y = m(-118.4695, 33.9850)\n",
        "plt.plot(x, y, 'ok', markersize=5)\n",
        "plt.text(x, y, '  Venice', fontsize=7);\n",
        "x, y = m(-118.3870, 33.7445)\n",
        "plt.plot(x, y, 'ok', markersize=5)\n",
        "plt.text(x, y, '  RP Verdes', fontsize=7);\n",
        "x, y = m(-117.993938, 33.752418)\n",
        "plt.plot(x, y, 'ok', markersize=5)\n",
        "plt.text(x, y, '  Westminster', fontsize=7);\n",
        "x, y = m(-117.9242, 33.8704)\n",
        "plt.plot(x, y, 'ok', markersize=5)\n",
        "plt.text(x, y, '  Fullerton', fontsize=7);\n",
        "x, y = m(-117.9988, 33.6595)\n",
        "plt.plot(x, y, 'ok', markersize=5)\n",
        "plt.text(x, y, '  Huntington\\n  Beach', fontsize=7);\n",
        "x, y = m(-118.1228, 34.0625)\n",
        "plt.plot(x, y, 'ok', markersize=5)\n",
        "plt.text(x, y, '  Monterey Park', fontsize=7);\n",
        "x, y = m(-117.9143, 33.8366)\n",
        "plt.plot(x, y, 'ok', markersize=5)\n",
        "plt.text(x, y, '  Anaheim', fontsize=7);\n",
        "x, y = m(-117.9390, 34.0686)\n",
        "plt.plot(x, y, 'ok', markersize=5)\n",
        "plt.text(x, y, '  West\\n  Covina', fontsize=7);\n",
        "x, y = m(-118.0019, 34.1443)\n",
        "plt.plot(x, y, 'ok', markersize=5)\n",
        "plt.text(x, y, '  Monrovia', fontsize=7);\n",
        "x, y = m(-117.9687, 33.9931)\n",
        "plt.plot(x, y, 'ok', markersize=5)\n",
        "plt.text(x, y, '  Hacienda\\n  Heights', fontsize=7);\n",
        "x, y = m(-118.5426, 34.3917)\n",
        "plt.plot(x, y, 'ok', markersize=5)\n",
        "plt.text(x, y, '  Santa Clarita', fontsize=7);\n",
        "x, y = m(-118.5426, 34.3917)\n",
        "plt.plot(x, y, 'ok', markersize=5)\n",
        "plt.text(x, y, '  Santa Clarita', fontsize=7);\n",
        "x, y = m(-118.8376, 34.1706)\n",
        "plt.plot(x, y, 'ok', markersize=5)\n",
        "plt.text(x, y, '  Thousand Oaks', fontsize=7);\n",
        "x, y = m(-118.7815, 34.2694)\n",
        "plt.plot(x, y, 'ok', markersize=5)\n",
        "plt.text(x, y, '  Simi Valley', fontsize=7);\n",
        "x, y = m(-118.6090, 34.1654)\n",
        "plt.plot(x, y, 'ok', markersize=5)\n",
        "plt.text(x, y, '  Woodland Hills', fontsize=7);\n",
        "x, y = m(-118.4572, 34.3058)\n",
        "plt.plot(x, y, 'ok', markersize=5)\n",
        "plt.text(x, y, '  Sylmar', fontsize=7);\n",
        "x, y = m(-118.5022, 34.2794)\n",
        "plt.plot(x, y, 'ok', markersize=5)\n",
        "plt.text(x, y, '  Granada Hills', fontsize=7);\n",
        "x, y = m(-118.5361, 34.2011)\n",
        "plt.plot(x, y, 'ok', markersize=5)\n",
        "plt.text(x, y, '  Reseda', fontsize=7);\n",
        "x, y = m(-118.4424, 34.2276)\n",
        "plt.plot(x, y, 'ok', markersize=5)\n",
        "plt.text(x, y, '  Panorama City', fontsize=7);\n",
        "x, y = m(-118.3813, 34.1870)\n",
        "plt.plot(x, y, 'ok', markersize=5)\n",
        "plt.text(x, y, ' North\\n Hollywood', fontsize=7);\n",
        "x, y = m(-118.4595, 34.1002)\n",
        "plt.plot(x, y, 'ok', markersize=5)\n",
        "plt.text(x, y, '  Bel Air', fontsize=7);\n",
        "x, y = m(-118.1313, 34.1902)\n",
        "plt.plot(x, y, 'ok', markersize=5)\n",
        "plt.text(x, y, '  Altadena', fontsize=7);\n",
        "x, y = m(-118.6059, 34.2083)\n",
        "plt.plot(x, y, 'ok', markersize=5)\n",
        "plt.text(x, y, '  Canoga\\n  Park', fontsize=7);\n",
        "x, y = m(-118.6148, 34.2506)\n",
        "plt.plot(x, y, 'ok', markersize=5)\n",
        "plt.text(x, y, '  Chatsworth', fontsize=7);\n",
        "x, y = m(-118.6615, 34.1367)\n",
        "plt.plot(x, y, 'ok', markersize=5)\n",
        "plt.text(x, y, '  Calabasas', fontsize=7);\n",
        "x, y = m(-117.9076, 34.1336)\n",
        "plt.plot(x, y, 'ok', markersize=5)\n",
        "plt.text(x, y, '  Azusa', fontsize=7);\n",
        "x, y = m(-118.4192, 33.9754)\n",
        "plt.plot(x, y, 'ok', markersize=5)\n",
        "plt.text(x, y, '  Playa Vista', fontsize=7);\n",
        "x, y = m(-118.3287, 34.0416)\n",
        "plt.plot(x, y, 'ok', markersize=5)\n",
        "plt.text(x, y, '  Mid\\n  City', fontsize=7);\n",
        "x, y = m(-118.4455, 34.0635)\n",
        "plt.plot(x, y, 'ok', markersize=5)\n",
        "plt.text(x, y, '  Westwood', fontsize=7);\n",
        "\n",
        "for i in range(len(vid[0])):\n",
        "  x, y = m(location_data[str(vid[0][i])]['mean_coords'][0], location_data[str(vid[0][i])]['mean_coords'][1])\n",
        "  plt.plot(x, y, 'ok', markersize=5,color='blue')\n",
        "  plt.text(x, y, '  '+str(i), fontsize=10); "
      ],
      "execution_count": null,
      "outputs": []
    },
    {
      "cell_type": "code",
      "metadata": {
        "id": "J8ihPjTfXGG3"
      },
      "source": [
        "#Let's create the graph and extract MST using networkX\n",
        "arr = el\n",
        "arr1 = arr.rename(columns={0: \"source\", 1: \"sink\", 2: \"weight\"})\n",
        "g = nx.from_pandas_edgelist(arr1, 'source','sink', ['weight'])\n",
        "gcc = g.subgraph(max(nx.connected_components(g), key=len))\n",
        "mst = nx.minimum_spanning_tree(gcc)\n",
        "mg = nx.MultiGraph()\n",
        "mst_cost = 0\n",
        "for i in mst.edges:\n",
        "    w = mst.edges[i[0],i[1]]['weight']\n",
        "    mst_cost += w\n",
        "    mg.add_edge(i[0],i[1],weight=w)\n",
        "    mg.add_edge(i[0],i[1],weight=w)\n",
        "\n",
        "vertices, count = [], 0\n",
        "for i in mg.nodes:\n",
        "    vertices.append(i)\n",
        "    count += 1\n",
        "    if count>60: \n",
        "        break"
      ],
      "execution_count": null,
      "outputs": []
    },
    {
      "cell_type": "code",
      "metadata": {
        "id": "Lncs3Ie7X-_Q"
      },
      "source": [
        "# TSP using 2-approximate algorithm (will take a long time to run)\n",
        "\n",
        "costs, cur_paths = [], []\n",
        "for vertex in vertices:\n",
        "    tour = [u for u,v in nx.eulerian_circuit(mg,source=vertex)]\n",
        "    cur_path, visited_nodes = [], set()\n",
        "    for i in tour:\n",
        "        if i not in visited_nodes: \n",
        "            cur_path.append(i) \n",
        "            visited_nodes.add(i) \n",
        "    cur_path.append(cur_path[0])\n",
        "    cur_paths.append(cur_path)\n",
        "\n",
        "    approx_cost = 0\n",
        "    for i in range(len(cur_path)-1):\n",
        "        s,t = cur_path[i], cur_path[i+1]\n",
        "        w = 0\n",
        "        if mst.has_edge(s,t): \n",
        "            w = mst.edges[s,t]['weight']\n",
        "        else: \n",
        "            w = nx.dijkstra_path_length(gcc,s,t)\n",
        "        approx_cost += w\n",
        "    costs.append(approx_cost)\n",
        "\n",
        "min_approx_cost = min(costs)\n",
        "trajectory = cur_paths[np.argmin(costs)]"
      ],
      "execution_count": null,
      "outputs": []
    },
    {
      "cell_type": "code",
      "metadata": {
        "id": "WexfEB6zYEi8"
      },
      "source": [
        "# Extract coordinates in order from TSP output\n",
        "\n",
        "data = json.load(open('los_angeles_censustracts.json'))\n",
        "location_data = []\n",
        "for i in trajectory:\n",
        "    for j in range(len(data['features'])):\n",
        "        if data['features'][j]['properties']['MOVEMENT_ID']==str(int(i)):\n",
        "            cur_loc = data['features'][j]['geometry']['coordinates'][0]\n",
        "            if len(cur_loc)==1:\n",
        "                t = np.asarray(cur_loc[0]).mean(axis=0)\n",
        "                location_data.append(t)\n",
        "            elif len(cur_loc)==2:\n",
        "                t = np.asarray(cur_loc[0]+cur_loc[1]).mean(axis=0)\n",
        "                location_data.append(t)\n",
        "            elif i==1932.0:\n",
        "                t = np.asarray(cur_loc[0]+cur_loc[1]+cur_loc[2]+cur_loc[3]+cur_loc[4]+cur_loc[5]).mean(axis=0)\n",
        "                location_data.append(t)\n",
        "            else: \n",
        "                t = np.asarray(cur_loc).mean(axis=0)\n",
        "                location_data.append(t)\n",
        "x,y = [i[0] for i in location_data], [i[1] for i in location_data]"
      ],
      "execution_count": null,
      "outputs": []
    },
    {
      "cell_type": "code",
      "metadata": {
        "id": "HLXOVIOABXfL"
      },
      "source": [
        "#plot on the map of Los Angeles\n",
        "lon = x\n",
        "lat = y\n",
        "\n",
        "fig, ax = plt.subplots(figsize = (8,8))\n",
        "m = basemap.Basemap(projection='lcc', resolution='h', lat_0=34.05, lon_0=-118.25,width=1E5, height=1E5) #Draw map of LA\n",
        "m.drawcoastlines(color='gray')\n",
        "m.drawcountries(color='gray')\n",
        "m.drawstates(color='gray')\n",
        "m.fillcontinents(color='tan')\n",
        "x, y = m(-118.4912, 34.0195)\n",
        "plt.plot(x, y, 'ok', markersize=5)\n",
        "plt.text(x, y, '  Santa\\n  Monica', fontsize=7);\n",
        "x, y = m(-118.2518, 34.0488)\n",
        "plt.plot(x, y, 'ok', markersize=5)\n",
        "plt.text(x, y, '  Downtown', fontsize=7);\n",
        "x, y = m(-118.4085, 33.9416)\n",
        "plt.plot(x, y, 'ok', markersize=5)\n",
        "plt.text(x, y, '  LAX', fontsize=7);\n",
        "x, y = m(-118.1445, 34.1478)\n",
        "plt.plot(x, y, 'ok', markersize=5)\n",
        "plt.text(x, y, '  Pasadena', fontsize=7);\n",
        "x, y = m(-118.7798, 34.0259)\n",
        "plt.plot(x, y, 'ok', markersize=5)\n",
        "plt.text(x, y, '  Malibu', fontsize=7);\n",
        "x, y = m(-118.1937, 33.7701)\n",
        "plt.plot(x, y, 'ok', markersize=5)\n",
        "plt.text(x, y, '  Long Beach', fontsize=7);\n",
        "x, y = m(-118.1270, 34.0953)\n",
        "plt.plot(x, y, 'ok', markersize=5)\n",
        "plt.text(x, y, '  Alhambra', fontsize=7);\n",
        "x, y = m(-118.2201, 33.8958)\n",
        "plt.plot(x, y, 'ok', markersize=5)\n",
        "plt.text(x, y, '  Compton', fontsize=7);\n",
        "x, y = m(-118.3884, 33.8492)\n",
        "plt.plot(x, y, 'ok', markersize=5)\n",
        "plt.text(x, y, '  Redondo Beach', fontsize=7);\n",
        "x, y = m(-118.4004, 34.0736)\n",
        "plt.plot(x, y, 'ok', markersize=5)\n",
        "plt.text(x, y, '  Beverly Hills', fontsize=7);\n",
        "x, y = m(-118.3090, 34.1808)\n",
        "plt.plot(x, y, 'ok', markersize=5)\n",
        "plt.text(x, y, '  Burbank', fontsize=7);\n",
        "x, y = m(-118.3287, 34.0928)\n",
        "plt.plot(x, y, 'ok', markersize=5)\n",
        "plt.text(x, y, '  Hollywood', fontsize=7);\n",
        "x, y = m(-118.4514, 34.1899)\n",
        "plt.plot(x, y, 'ok', markersize=5)\n",
        "plt.text(x, y, '  Van\\n  Nuys', fontsize=7);\n",
        "x, y = m(-118.5301, 34.2381)\n",
        "plt.plot(x, y, 'ok', markersize=5)\n",
        "plt.text(x, y, '  Northridge', fontsize=7);\n",
        "x, y = m(-118.5506, 34.1495)\n",
        "plt.plot(x, y, 'ok', markersize=5)\n",
        "plt.text(x, y, '  Tarzana', fontsize=7);\n",
        "x, y = m(-118.0328, 33.9792)\n",
        "plt.plot(x, y, 'ok', markersize=5)\n",
        "plt.text(x, y, '  Whittier', fontsize=7);\n",
        "x, y = m(-118.1670, 34.0224)\n",
        "plt.plot(x, y, 'ok', markersize=5)\n",
        "plt.text(x, y, '  East Los Angeles', fontsize=7);\n",
        "x, y = m(-118.2551, 34.1425)\n",
        "plt.plot(x, y, 'ok', markersize=5)\n",
        "plt.text(x, y, '  Glendale', fontsize=7);\n",
        "x, y = m(-118.2251, 33.9817)\n",
        "plt.plot(x, y, 'ok', markersize=5)\n",
        "plt.text(x, y, '  Huntington Park', fontsize=7);\n",
        "x, y = m(-118.3406, 33.8358)\n",
        "plt.plot(x, y, 'ok', markersize=5)\n",
        "plt.text(x, y, '  Torrance', fontsize=7);\n",
        "x, y = m(-118.1332, 33.9401)\n",
        "plt.plot(x, y, 'ok', markersize=5)\n",
        "plt.text(x, y, '  Downey', fontsize=7);\n",
        "x, y = m(-118.3526, 33.9164)\n",
        "plt.plot(x, y, 'ok', markersize=5)\n",
        "plt.text(x, y, '  Hawthorne', fontsize=7);\n",
        "x, y = m(-118.3965, 34.0211)\n",
        "plt.plot(x, y, 'ok', markersize=5)\n",
        "plt.text(x, y, '  Culver City', fontsize=7);\n",
        "x, y = m(-118.3531, 33.9617)\n",
        "plt.plot(x, y, 'ok', markersize=5)\n",
        "plt.text(x, y, '  Inglewood', fontsize=7);\n",
        "x, y = m(-117.9981, 33.8674)\n",
        "plt.plot(x, y, 'ok', markersize=5)\n",
        "plt.text(x, y, '  Buena\\n  Park', fontsize=7);\n",
        "x, y = m(-118.0817, 33.9022)\n",
        "plt.plot(x, y, 'ok', markersize=5)\n",
        "plt.text(x, y, '  Norwalk', fontsize=7);\n",
        "x, y = m(-118.1340, 33.8536)\n",
        "plt.plot(x, y, 'ok', markersize=5)\n",
        "plt.text(x, y, '  Lakewood', fontsize=7);\n",
        "x, y = m(-118.4695, 33.9850)\n",
        "plt.plot(x, y, 'ok', markersize=5)\n",
        "plt.text(x, y, '  Venice', fontsize=7);\n",
        "x, y = m(-118.3870, 33.7445)\n",
        "plt.plot(x, y, 'ok', markersize=5)\n",
        "plt.text(x, y, '  RP Verdes', fontsize=7);\n",
        "x, y = m(-117.993938, 33.752418)\n",
        "plt.plot(x, y, 'ok', markersize=5)\n",
        "plt.text(x, y, '  Westminster', fontsize=7);\n",
        "x, y = m(-117.9242, 33.8704)\n",
        "plt.plot(x, y, 'ok', markersize=5)\n",
        "plt.text(x, y, '  Fullerton', fontsize=7);\n",
        "x, y = m(-117.9988, 33.6595)\n",
        "plt.plot(x, y, 'ok', markersize=5)\n",
        "plt.text(x, y, '  Huntington\\n  Beach', fontsize=7);\n",
        "x, y = m(-118.1228, 34.0625)\n",
        "plt.plot(x, y, 'ok', markersize=5)\n",
        "plt.text(x, y, '  Monterey Park', fontsize=7);\n",
        "x, y = m(-117.9143, 33.8366)\n",
        "plt.plot(x, y, 'ok', markersize=5)\n",
        "plt.text(x, y, '  Anaheim', fontsize=7);\n",
        "x, y = m(-117.9390, 34.0686)\n",
        "plt.plot(x, y, 'ok', markersize=5)\n",
        "plt.text(x, y, '  West\\n  Covina', fontsize=7);\n",
        "x, y = m(-118.0019, 34.1443)\n",
        "plt.plot(x, y, 'ok', markersize=5)\n",
        "plt.text(x, y, '  Monrovia', fontsize=7);\n",
        "x, y = m(-117.9687, 33.9931)\n",
        "plt.plot(x, y, 'ok', markersize=5)\n",
        "plt.text(x, y, '  Hacienda\\n  Heights', fontsize=7);\n",
        "x, y = m(-118.5426, 34.3917)\n",
        "plt.plot(x, y, 'ok', markersize=5)\n",
        "plt.text(x, y, '  Santa Clarita', fontsize=7);\n",
        "x, y = m(-118.5426, 34.3917)\n",
        "plt.plot(x, y, 'ok', markersize=5)\n",
        "plt.text(x, y, '  Santa Clarita', fontsize=7);\n",
        "x, y = m(-118.8376, 34.1706)\n",
        "plt.plot(x, y, 'ok', markersize=5)\n",
        "plt.text(x, y, '  Thousand Oaks', fontsize=7);\n",
        "x, y = m(-118.7815, 34.2694)\n",
        "plt.plot(x, y, 'ok', markersize=5)\n",
        "plt.text(x, y, '  Simi Valley', fontsize=7);\n",
        "x, y = m(-118.6090, 34.1654)\n",
        "plt.plot(x, y, 'ok', markersize=5)\n",
        "plt.text(x, y, '  Woodland Hills', fontsize=7);\n",
        "x, y = m(-118.4572, 34.3058)\n",
        "plt.plot(x, y, 'ok', markersize=5)\n",
        "plt.text(x, y, '  Sylmar', fontsize=7);\n",
        "x, y = m(-118.5022, 34.2794)\n",
        "plt.plot(x, y, 'ok', markersize=5)\n",
        "plt.text(x, y, '  Granada Hills', fontsize=7);\n",
        "x, y = m(-118.5361, 34.2011)\n",
        "plt.plot(x, y, 'ok', markersize=5)\n",
        "plt.text(x, y, '  Reseda', fontsize=7);\n",
        "x, y = m(-118.4424, 34.2276)\n",
        "plt.plot(x, y, 'ok', markersize=5)\n",
        "plt.text(x, y, '  Panorama City', fontsize=7);\n",
        "x, y = m(-118.3813, 34.1870)\n",
        "plt.plot(x, y, 'ok', markersize=5)\n",
        "plt.text(x, y, ' North\\n Hollywood', fontsize=7);\n",
        "x, y = m(-118.4595, 34.1002)\n",
        "plt.plot(x, y, 'ok', markersize=5)\n",
        "plt.text(x, y, '  Bel Air', fontsize=7);\n",
        "x, y = m(-118.1313, 34.1902)\n",
        "plt.plot(x, y, 'ok', markersize=5)\n",
        "plt.text(x, y, '  Altadena', fontsize=7);\n",
        "x, y = m(-118.6059, 34.2083)\n",
        "plt.plot(x, y, 'ok', markersize=5)\n",
        "plt.text(x, y, '  Canoga\\n  Park', fontsize=7);\n",
        "x, y = m(-118.6148, 34.2506)\n",
        "plt.plot(x, y, 'ok', markersize=5)\n",
        "plt.text(x, y, '  Chatsworth', fontsize=7);\n",
        "x, y = m(-118.6615, 34.1367)\n",
        "plt.plot(x, y, 'ok', markersize=5)\n",
        "plt.text(x, y, '  Calabasas', fontsize=7);\n",
        "x, y = m(-117.9076, 34.1336)\n",
        "plt.plot(x, y, 'ok', markersize=5)\n",
        "plt.text(x, y, '  Azusa', fontsize=7);\n",
        "x, y = m(-118.4192, 33.9754)\n",
        "plt.plot(x, y, 'ok', markersize=5)\n",
        "plt.text(x, y, '  Playa Vista', fontsize=7);\n",
        "x, y = m(-118.3287, 34.0416)\n",
        "plt.plot(x, y, 'ok', markersize=5)\n",
        "plt.text(x, y, '  Mid\\n  City', fontsize=7);\n",
        "x, y = m(-118.4455, 34.0635)\n",
        "plt.plot(x, y, 'ok', markersize=5)\n",
        "plt.text(x, y, '  Westwood', fontsize=7);\n",
        "\n",
        "\n",
        "x,y = m(lon, lat)\n",
        "plt.plot(x,y,'o-',color='blue',markersize=2,markerfacecolor='red')\n",
        "plt.show()"
      ],
      "execution_count": null,
      "outputs": []
    },
    {
      "cell_type": "code",
      "metadata": {
        "id": "EMTum1SUDO2J"
      },
      "source": [
        ""
      ],
      "execution_count": null,
      "outputs": []
    }
  ]
}